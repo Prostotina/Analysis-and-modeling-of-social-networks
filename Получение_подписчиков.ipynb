{
  "cells": [
    {
      "cell_type": "code",
      "execution_count": null,
      "id": "b6dd3847",
      "metadata": {
        "id": "b6dd3847"
      },
      "outputs": [],
      "source": [
        "import requests\n",
        "import pandas as pd\n",
        "import json\n",
        "import matplotlib.pyplot as plt\n",
        "import pickle\n",
        "import networkx as nx\n",
        "import numpy as np\n",
        "import random\n",
        "import time\n",
        "import statistics\n",
        "from itertools import chain "
      ]
    },
    {
      "cell_type": "code",
      "execution_count": null,
      "id": "36279b81",
      "metadata": {
        "id": "36279b81"
      },
      "outputs": [],
      "source": [
        "# Для получения токена открыть ссылку в браузере:\n",
        "# Для контроля над своим токеном, нужно изменить client_id на id своего приложение ВК\n",
        "# https://oauth.vk.com/authorize?client_id=8009498&display=page&scope=friends&response_type=token&v=5.92&state=123456 \n",
        "\n",
        "group_api_url = 'https://api.vk.com/method/groups.getMembers?group_id='\n",
        "id_api_url = 'https://api.vk.com/method/friends.get?user_id='\n",
        "fields = '&fields=id'\n",
        "count = '&count=100'\n",
        "offset = '&offset='\n",
        "v = '&v=5.131'\n",
        "access_token = '&access_token=TOKEN'"
      ]
    },
    {
      "cell_type": "code",
      "execution_count": null,
      "id": "b2d6b4dd",
      "metadata": {
        "id": "b2d6b4dd"
      },
      "outputs": [],
      "source": [
        "# Id группы ВК\n",
        "vk_group_id = 75632872"
      ]
    },
    {
      "cell_type": "code",
      "execution_count": null,
      "id": "263c0aa1",
      "metadata": {
        "id": "263c0aa1"
      },
      "outputs": [],
      "source": [
        "#Обращение к vk_api\n",
        "def extract_members(group_id):\n",
        "\n",
        "    list_of_members = []\n",
        "    \n",
        "    for offset_number in range(0, 3000, 1000):\n",
        "        \n",
        "        url = group_api_url + str(group_id) + offset + str(offset_number) + count + fields + access_token + v\n",
        "        json_response = requests.get(url).json()\n",
        "        users = json_response['response']['items']\n",
        "        list_of_members += users\n",
        "        \n",
        "    return list_of_members"
      ]
    },
    {
      "cell_type": "code",
      "execution_count": null,
      "id": "kATTZAPqZL31",
      "metadata": {
        "id": "kATTZAPqZL31"
      },
      "outputs": [],
      "source": [
        "#Получение количества подписчиков в сообществе\n",
        "def get_members_count(group_id):\n",
        "\n",
        "    url = group_api_url + str(group_id) + access_token + v\n",
        "    json_response = requests.get(url).json()\n",
        "    count = json_response['response']['count']\n",
        "        \n",
        "    return count"
      ]
    },
    {
      "cell_type": "code",
      "execution_count": null,
      "id": "8a0a7700",
      "metadata": {
        "colab": {
          "base_uri": "https://localhost:8080/"
        },
        "id": "8a0a7700",
        "outputId": "9a35c930-c0c8-400e-db51-9be6e32476cd"
      },
      "outputs": [
        {
          "name": "stdout",
          "output_type": "stream",
          "text": [
            "[{'id': 5523, 'first_name': 'Андрей', 'last_name': 'Самсонов', 'can_access_closed': True, 'is_closed': False}, {'id': 32168, 'first_name': 'Марина', 'last_name': 'Жезлова', 'can_access_closed': True, 'is_closed': False}, {'id': 42203, 'first_name': 'Валерия', 'last_name': 'Митропольская', 'can_access_closed': True, 'is_closed': False}, {'id': 80026, 'first_name': 'Ольга', 'last_name': 'Гаранина', 'can_access_closed': False, 'is_closed': True}, {'id': 83851, 'first_name': 'Валерия', 'last_name': 'Цветаева', 'can_access_closed': True, 'is_closed': False}, {'id': 85637, 'first_name': 'Антонина', 'last_name': 'Чижова', 'can_access_closed': True, 'is_closed': False}, {'id': 111476, 'first_name': 'Наталья', 'last_name': 'Гразион', 'can_access_closed': True, 'is_closed': False}, {'id': 133692, 'first_name': 'Наталья', 'last_name': 'Комлева', 'can_access_closed': True, 'is_closed': False}, {'id': 176757, 'first_name': 'Маша', 'last_name': 'Бендер', 'can_access_closed': True, 'is_closed': False}, {'id': 176837, 'first_name': 'Мария', 'last_name': 'Курганская', 'can_access_closed': True, 'is_closed': False}, {'id': 177826, 'first_name': 'Михаил', 'last_name': 'Старина', 'can_access_closed': True, 'is_closed': False}, {'id': 198323, 'first_name': 'Алла', 'last_name': 'Томчаковская', 'can_access_closed': True, 'is_closed': False}, {'id': 202160, 'first_name': 'Катюха', 'last_name': 'Бабошко', 'can_access_closed': True, 'is_closed': False}, {'id': 222527, 'first_name': 'Вероника', 'last_name': 'Любицева', 'can_access_closed': True, 'is_closed': False}, {'id': 224996, 'first_name': 'Мария', 'last_name': 'Казанцева', 'can_access_closed': True, 'is_closed': False}, {'id': 245100, 'first_name': 'Елена', 'last_name': 'Калаева', 'can_access_closed': True, 'is_closed': False}, {'id': 250540, 'first_name': 'Даша', 'last_name': 'Московских', 'can_access_closed': True, 'is_closed': False}, {'id': 282589, 'first_name': 'Надежда', 'last_name': 'Щербенёва', 'can_access_closed': False, 'is_closed': True}, {'id': 314096, 'first_name': 'Ольга', 'last_name': 'Бельская', 'can_access_closed': True, 'is_closed': False}, {'id': 318208, 'first_name': 'Виктория', 'last_name': 'Федосеева', 'can_access_closed': True, 'is_closed': False}, {'id': 322325, 'first_name': 'Елена', 'last_name': 'Гостинцева', 'can_access_closed': False, 'is_closed': True}, {'id': 327934, 'first_name': 'Мария', 'last_name': 'Козельская', 'can_access_closed': False, 'is_closed': True}, {'id': 344335, 'first_name': 'Григорий', 'last_name': 'Чучин', 'can_access_closed': True, 'is_closed': False}, {'id': 356776, 'first_name': 'Анатолий', 'last_name': 'Дроздов', 'can_access_closed': True, 'is_closed': False}, {'id': 377424, 'first_name': 'Юлия', 'last_name': 'Гордиенко', 'can_access_closed': True, 'is_closed': False}, {'id': 392120, 'first_name': 'Наталья', 'last_name': 'Титова', 'can_access_closed': True, 'is_closed': False}, {'id': 417081, 'first_name': 'Надежда', 'last_name': 'Кузьмичева', 'can_access_closed': False, 'is_closed': True}, {'id': 422330, 'first_name': 'Ольга', 'last_name': 'Куприянова', 'can_access_closed': True, 'is_closed': False}, {'id': 491280, 'first_name': 'Ирина', 'last_name': 'Маркова', 'can_access_closed': True, 'is_closed': False}, {'id': 519247, 'first_name': 'Елена', 'last_name': 'Пыхачёва', 'can_access_closed': True, 'is_closed': False}, {'id': 536406, 'first_name': 'Nadezhda', 'last_name': 'Telyakova', 'can_access_closed': True, 'is_closed': False}, {'id': 542437, 'first_name': 'Анютка', 'last_name': 'Толокнова', 'can_access_closed': True, 'is_closed': False}, {'id': 559828, 'first_name': 'Евгения', 'last_name': 'Царинная', 'can_access_closed': True, 'is_closed': False}, {'id': 563435, 'first_name': 'Елена', 'last_name': 'Комарова', 'can_access_closed': False, 'is_closed': True}, {'id': 627652, 'first_name': 'Мария', 'last_name': 'Вытриковская', 'can_access_closed': True, 'is_closed': False}, {'id': 642340, 'first_name': 'Юлия', 'last_name': 'Размётова', 'can_access_closed': True, 'is_closed': False}, {'id': 681603, 'first_name': 'Оля', 'last_name': 'Радчикова', 'can_access_closed': False, 'is_closed': True}, {'id': 696925, 'first_name': 'Max', 'last_name': 'Kirov', 'can_access_closed': True, 'is_closed': False}, {'id': 741694, 'first_name': 'Светлана', 'last_name': 'Голенко', 'can_access_closed': True, 'is_closed': False}, {'id': 751551, 'first_name': 'Анастасия', 'last_name': 'Капустина', 'can_access_closed': True, 'is_closed': False}, {'id': 796253, 'first_name': 'Анюта', 'last_name': 'Миледи', 'can_access_closed': False, 'is_closed': True}, {'id': 836131, 'first_name': 'Дарья', 'last_name': 'Соина', 'can_access_closed': True, 'is_closed': False}, {'id': 837776, 'first_name': 'Татьяна', 'last_name': 'Горячева', 'can_access_closed': True, 'is_closed': False}, {'id': 853022, 'first_name': 'Юлия', 'last_name': 'Себелева', 'can_access_closed': True, 'is_closed': False}, {'id': 856427, 'first_name': 'Юлиана', 'last_name': 'Белоногова', 'can_access_closed': True, 'is_closed': False}, {'id': 856747, 'first_name': 'Людмила', 'last_name': 'Виноградова', 'can_access_closed': True, 'is_closed': False}, {'id': 956696, 'first_name': 'Анна', 'last_name': 'Светлова', 'can_access_closed': True, 'is_closed': False}, {'id': 973758, 'first_name': 'Марина', 'last_name': 'Бирюкова', 'can_access_closed': True, 'is_closed': False}, {'id': 1041317, 'first_name': 'Елена', 'last_name': 'Мацуева', 'can_access_closed': False, 'is_closed': True}, {'id': 1051808, 'first_name': 'Галина', 'last_name': 'Дериш', 'can_access_closed': False, 'is_closed': True}, {'id': 1065706, 'first_name': 'Ирина', 'last_name': 'Матвиенко', 'can_access_closed': True, 'is_closed': False}, {'id': 1077915, 'first_name': 'Надежда', 'last_name': 'Волосюк', 'can_access_closed': True, 'is_closed': False}, {'id': 1083560, 'first_name': 'Наташа', 'last_name': 'Михайличенко', 'can_access_closed': True, 'is_closed': False}, {'id': 1095648, 'first_name': 'Анюта', 'last_name': 'Азарьева', 'can_access_closed': True, 'is_closed': False}, {'id': 1103425, 'first_name': 'Андрей', 'last_name': 'Сухов', 'can_access_closed': False, 'is_closed': True}, {'id': 1171114, 'first_name': 'Наталья', 'last_name': 'Прудиус', 'can_access_closed': True, 'is_closed': False}, {'id': 1188352, 'first_name': 'Наталья', 'last_name': 'Климова', 'can_access_closed': False, 'is_closed': True}, {'id': 1195774, 'first_name': 'Наталья', 'last_name': 'Глушкова', 'can_access_closed': False, 'is_closed': True}, {'id': 1257230, 'first_name': 'Ленусик', 'last_name': 'Билан', 'can_access_closed': False, 'is_closed': True}, {'id': 1260797, 'first_name': 'Алексей', 'last_name': 'Бабицкий', 'can_access_closed': True, 'is_closed': False}, {'id': 1286386, 'first_name': 'Любовь', 'last_name': 'Старенкова', 'can_access_closed': True, 'is_closed': False}, {'id': 1305442, 'first_name': 'Ольга', 'last_name': 'Кащеева', 'can_access_closed': True, 'is_closed': False}, {'id': 1315872, 'first_name': 'Анна', 'last_name': 'Киселева', 'can_access_closed': False, 'is_closed': True}, {'id': 1319480, 'first_name': 'Марина', 'last_name': 'Ковалева', 'can_access_closed': True, 'is_closed': False}, {'id': 1336122, 'first_name': 'Ольга', 'last_name': 'Лазуткина', 'can_access_closed': True, 'is_closed': False}, {'id': 1368639, 'first_name': 'Милена', 'last_name': 'Шкандаль', 'can_access_closed': True, 'is_closed': False}, {'id': 1496870, 'first_name': 'Алина', 'last_name': 'Королева', 'can_access_closed': True, 'is_closed': False}, {'id': 1501113, 'first_name': 'Светлана', 'last_name': 'Капустина', 'can_access_closed': True, 'is_closed': False}, {'id': 1503833, 'first_name': 'Рафида', 'last_name': 'Губайдуллина', 'can_access_closed': True, 'is_closed': False}, {'id': 1525236, 'first_name': 'Альбина', 'last_name': 'Мухамадеева', 'can_access_closed': True, 'is_closed': False}, {'id': 1536338, 'first_name': 'Лена', 'last_name': 'Маленькая', 'can_access_closed': True, 'is_closed': False}, {'id': 1537152, 'first_name': 'Юлия', 'last_name': 'Николаева', 'can_access_closed': True, 'is_closed': False}, {'id': 1558521, 'first_name': 'Наталья', 'last_name': 'Иванова', 'can_access_closed': True, 'is_closed': False}, {'id': 1560496, 'first_name': 'Елена', 'last_name': 'Бережная', 'can_access_closed': True, 'is_closed': False}, {'id': 1578312, 'first_name': 'Ирина', 'last_name': 'Цветникова', 'can_access_closed': True, 'is_closed': False}, {'id': 1618794, 'first_name': 'Юлия', 'last_name': 'Друщенок', 'can_access_closed': True, 'is_closed': False}, {'id': 1631357, 'first_name': 'Елена', 'last_name': 'Левина', 'can_access_closed': True, 'is_closed': False}, {'id': 1647471, 'first_name': 'Людмила', 'last_name': 'Третьякова', 'can_access_closed': True, 'is_closed': False}, {'id': 1652085, 'first_name': 'Кристина', 'last_name': 'Джемулова', 'can_access_closed': True, 'is_closed': False}, {'id': 1673440, 'first_name': 'Ирина', 'last_name': 'Никитина', 'can_access_closed': True, 'is_closed': False}, {'id': 1675602, 'first_name': 'Алёна', 'last_name': 'Растопчина', 'can_access_closed': True, 'is_closed': False}, {'id': 1701265, 'first_name': 'Катерина', 'last_name': 'Горячкина', 'can_access_closed': True, 'is_closed': False}, {'id': 1747799, 'first_name': 'Элина', 'last_name': 'Скрылева', 'can_access_closed': False, 'is_closed': True}, {'id': 1755802, 'first_name': 'Анна', 'last_name': 'Алипа', 'can_access_closed': False, 'is_closed': True}, {'id': 1776391, 'first_name': 'Вера', 'last_name': 'Бирюльцева', 'can_access_closed': False, 'is_closed': True}, {'id': 1776958, 'first_name': 'Людмила', 'last_name': 'Шибанова', 'can_access_closed': True, 'is_closed': False}, {'id': 1786820, 'first_name': 'Любовь', 'last_name': 'Петрова', 'can_access_closed': True, 'is_closed': False}, {'id': 1812016, 'first_name': 'Елена', 'last_name': 'Аминина', 'can_access_closed': False, 'is_closed': True}, {'id': 1828749, 'first_name': 'Евгения', 'last_name': 'Сергеева', 'can_access_closed': True, 'is_closed': False}, {'id': 1832319, 'first_name': 'Елизавета', 'last_name': 'Рубцова', 'can_access_closed': True, 'is_closed': False}, {'id': 1848609, 'first_name': 'Юлия', 'last_name': 'Кожемяко', 'can_access_closed': True, 'is_closed': False}, {'id': 1869239, 'first_name': 'Мария', 'last_name': 'Чекмарёва', 'can_access_closed': True, 'is_closed': False}, {'id': 1870254, 'first_name': 'Алёна', 'last_name': 'Цветкова', 'can_access_closed': False, 'is_closed': True}, {'id': 1875700, 'first_name': 'Светлана', 'last_name': 'Акулич', 'can_access_closed': True, 'is_closed': False}, {'id': 1883661, 'first_name': 'Ольга', 'last_name': 'Душкина', 'can_access_closed': True, 'is_closed': False}, {'id': 1890458, 'first_name': 'Селена', 'last_name': 'Рикман', 'can_access_closed': True, 'is_closed': False}, {'id': 1896510, 'first_name': 'Алеся', 'last_name': 'Динер', 'can_access_closed': False, 'is_closed': True}, {'id': 1900469, 'first_name': 'Светлана', 'last_name': 'Некрасова', 'can_access_closed': True, 'is_closed': False}, {'id': 31233383, 'first_name': 'Татьяна', 'last_name': 'Панова', 'can_access_closed': True, 'is_closed': False}, {'id': 31246371, 'first_name': 'Катюша', 'last_name': 'Львова', 'can_access_closed': False, 'is_closed': True}, {'id': 31283893, 'first_name': 'Наталья', 'last_name': 'Георгиева', 'can_access_closed': True, 'is_closed': False}, {'id': 31306176, 'first_name': 'Анюта', 'last_name': 'Никулочкина', 'can_access_closed': True, 'is_closed': False}, {'id': 31331421, 'first_name': 'Олеся', 'last_name': 'Макеева', 'can_access_closed': False, 'is_closed': True}, {'id': 31357680, 'first_name': 'Иринка', 'last_name': 'Лар', 'can_access_closed': False, 'is_closed': True}, {'id': 31378831, 'first_name': 'Акира', 'last_name': 'Ли', 'can_access_closed': True, 'is_closed': False}, {'id': 31382387, 'first_name': 'Вероника', 'last_name': 'Клинова', 'can_access_closed': True, 'is_closed': False}, {'id': 31396641, 'first_name': 'Татьяна', 'last_name': 'Кулишова', 'can_access_closed': True, 'is_closed': False}, {'id': 31660794, 'first_name': 'Татьяна', 'last_name': 'Борисова', 'can_access_closed': True, 'is_closed': False}, {'id': 31729631, 'first_name': 'Анна', 'last_name': 'Сологубова', 'can_access_closed': True, 'is_closed': False}, {'id': 31729870, 'first_name': 'Елена', 'last_name': 'Державцева', 'can_access_closed': True, 'is_closed': False}, {'id': 31745677, 'first_name': 'Анна', 'last_name': 'Темнякова', 'can_access_closed': False, 'is_closed': True}, {'id': 31783387, 'first_name': 'Валерия', 'last_name': 'Салихова', 'can_access_closed': True, 'is_closed': False}, {'id': 31826341, 'first_name': 'Ирина', 'last_name': 'Копьева', 'can_access_closed': True, 'is_closed': False}, {'id': 31900317, 'first_name': 'Евгения', 'last_name': 'Бороденко', 'can_access_closed': True, 'is_closed': False}, {'id': 31917634, 'first_name': 'Ольга', 'last_name': 'Фроленкова', 'can_access_closed': False, 'is_closed': True}, {'id': 31922207, 'first_name': 'Екатерина', 'last_name': 'Шевчук', 'can_access_closed': True, 'is_closed': False}, {'id': 31926865, 'first_name': 'Юляша', 'last_name': 'Лукашик', 'can_access_closed': False, 'is_closed': True}, {'id': 31958357, 'first_name': 'Кристина', 'last_name': 'Жданова', 'can_access_closed': True, 'is_closed': False}, {'id': 31978395, 'first_name': 'Юлия', 'last_name': 'Бузова', 'can_access_closed': True, 'is_closed': False}, {'id': 32056783, 'first_name': 'Лариса', 'last_name': 'Сапронова', 'can_access_closed': True, 'is_closed': False}, {'id': 32087785, 'first_name': 'Ира', 'last_name': 'Червоненко', 'can_access_closed': True, 'is_closed': False}, {'id': 32123683, 'first_name': 'Елена', 'last_name': 'Грачева', 'can_access_closed': True, 'is_closed': False}, {'id': 32135611, 'first_name': 'Елена', 'last_name': 'Зиновьева', 'can_access_closed': True, 'is_closed': False}, {'id': 32147240, 'first_name': 'Милана', 'last_name': 'Чистякова', 'can_access_closed': True, 'is_closed': False}, {'id': 32174419, 'first_name': 'Татьяна', 'last_name': 'Несмеянова', 'can_access_closed': True, 'is_closed': False}, {'id': 32187697, 'first_name': 'Надежда', 'last_name': 'Смирнова', 'can_access_closed': True, 'is_closed': False}, {'id': 32188134, 'first_name': 'Мария', 'last_name': 'Макеева', 'can_access_closed': True, 'is_closed': False}, {'id': 32310005, 'first_name': 'Татьяна', 'last_name': 'Недобежкина', 'can_access_closed': True, 'is_closed': False}, {'id': 32315035, 'first_name': 'Ирина', 'last_name': 'Павлова', 'can_access_closed': True, 'is_closed': False}, {'id': 32328085, 'first_name': 'Анна', 'last_name': 'Дрыгваль', 'can_access_closed': True, 'is_closed': False}, {'id': 32342786, 'first_name': 'Александра', 'last_name': 'Румянцева', 'can_access_closed': True, 'is_closed': False}, {'id': 32375054, 'first_name': 'Мария', 'last_name': 'Ерошкина', 'can_access_closed': False, 'is_closed': True}, {'id': 32486306, 'first_name': 'Светлана', 'last_name': 'Васюкова', 'can_access_closed': True, 'is_closed': False}, {'id': 32526704, 'first_name': 'Оля', 'last_name': 'Пархомец', 'can_access_closed': True, 'is_closed': False}, {'id': 32649686, 'first_name': 'Анна', 'last_name': 'Булгакова', 'can_access_closed': False, 'is_closed': True}, {'id': 32732908, 'first_name': 'Мирослава', 'last_name': 'Скиба', 'can_access_closed': False, 'is_closed': True}, {'id': 32848823, 'first_name': 'Лариса', 'last_name': 'Дмитренко', 'can_access_closed': True, 'is_closed': False}, {'id': 32936337, 'first_name': 'Ирина', 'last_name': 'Мирошниченко', 'can_access_closed': True, 'is_closed': False}, {'id': 32950972, 'first_name': 'Інна', 'last_name': 'Вишиванка', 'can_access_closed': True, 'is_closed': False}, {'id': 33048053, 'first_name': 'Татьяна', 'last_name': 'Изотова', 'can_access_closed': True, 'is_closed': False}, {'id': 33090459, 'first_name': 'Мария', 'last_name': 'Шеренговская', 'can_access_closed': True, 'is_closed': False}, {'id': 33118734, 'first_name': 'Нина', 'last_name': 'Штатская', 'can_access_closed': True, 'is_closed': False}, {'id': 33193133, 'first_name': 'Наталия', 'last_name': 'Кондратюк', 'can_access_closed': True, 'is_closed': False}, {'id': 33193179, 'first_name': 'Светлана', 'last_name': 'Сизова', 'can_access_closed': False, 'is_closed': True}, {'id': 33210948, 'first_name': 'Раиса', 'last_name': 'Казанцева', 'can_access_closed': False, 'is_closed': True}, {'id': 33261444, 'first_name': 'Елена', 'last_name': 'Виноградова', 'can_access_closed': False, 'is_closed': True}, {'id': 33287989, 'first_name': 'Элла', 'last_name': 'Владимировна', 'can_access_closed': True, 'is_closed': False}, {'id': 33311085, 'first_name': 'Ольга', 'last_name': 'Баринова', 'can_access_closed': True, 'is_closed': False}, {'id': 33383192, 'first_name': 'Татьяна', 'last_name': 'Ильина', 'can_access_closed': True, 'is_closed': False}, {'id': 33427831, 'first_name': 'Татьяна', 'last_name': 'Кудря', 'can_access_closed': True, 'is_closed': False}, {'id': 33459264, 'first_name': 'Ирина', 'last_name': 'Константинова', 'can_access_closed': True, 'is_closed': False}, {'id': 33460356, 'first_name': 'Алиса', 'last_name': 'Максимова', 'can_access_closed': True, 'is_closed': False}, {'id': 33542107, 'first_name': 'Ираида', 'last_name': 'Алейникова', 'can_access_closed': False, 'is_closed': True}, {'id': 33559076, 'first_name': 'Екатерина', 'last_name': 'Низовцева', 'can_access_closed': True, 'is_closed': False}, {'id': 33622656, 'first_name': 'Екатерина', 'last_name': 'Дементьева', 'can_access_closed': True, 'is_closed': False}, {'id': 33661730, 'first_name': 'Маша', 'last_name': 'Гаревских', 'can_access_closed': False, 'is_closed': True}, {'id': 33685843, 'first_name': 'Светлана', 'last_name': 'Трефилова', 'can_access_closed': True, 'is_closed': False}, {'id': 33688512, 'first_name': 'Ирина', 'last_name': 'Булдакова', 'can_access_closed': False, 'is_closed': True}, {'id': 33824587, 'first_name': 'Татьяна', 'last_name': 'Серёгина', 'can_access_closed': False, 'is_closed': True}, {'id': 33827455, 'first_name': 'Полина', 'last_name': 'Бурцева', 'can_access_closed': True, 'is_closed': False}, {'id': 33890351, 'first_name': 'Светлана', 'last_name': 'Заяц', 'can_access_closed': True, 'is_closed': False}, {'id': 33916752, 'first_name': 'Maria', 'last_name': 'Kharcheva', 'can_access_closed': True, 'is_closed': False}, {'id': 33938202, 'first_name': 'Людмила', 'last_name': 'Радченко', 'can_access_closed': True, 'is_closed': False}, {'id': 33946134, 'first_name': 'Кристина', 'last_name': 'Сажина', 'can_access_closed': True, 'is_closed': False}, {'id': 33987809, 'first_name': 'Анна', 'last_name': 'Савина', 'can_access_closed': False, 'is_closed': True}, {'id': 34031409, 'first_name': 'Юлия', 'last_name': 'Кан', 'can_access_closed': True, 'is_closed': False}, {'id': 34032638, 'first_name': 'Галина', 'last_name': 'Ануфриева', 'can_access_closed': True, 'is_closed': False}, {'id': 34050692, 'first_name': 'Мария', 'last_name': 'Мгарь', 'can_access_closed': True, 'is_closed': False}, {'id': 34059468, 'first_name': 'Ольга', 'last_name': 'Кузьмина', 'can_access_closed': True, 'is_closed': False}, {'id': 34147987, 'first_name': 'Нина', 'last_name': 'Соколова', 'can_access_closed': True, 'is_closed': False}, {'id': 34157819, 'first_name': 'Светлана', 'last_name': 'Мотрич', 'can_access_closed': False, 'is_closed': True}, {'id': 34214026, 'first_name': 'Ирина', 'last_name': 'Селиванова', 'can_access_closed': True, 'is_closed': False}, {'id': 34216858, 'first_name': 'Татьяна', 'last_name': 'Савина', 'can_access_closed': True, 'is_closed': False}, {'id': 34258934, 'first_name': 'Aysline', 'last_name': 'Unknown', 'can_access_closed': True, 'is_closed': False}, {'id': 34333029, 'first_name': 'Александра', 'last_name': 'Остапчук', 'can_access_closed': True, 'is_closed': False}, {'id': 34337998, 'first_name': 'Юлия', 'last_name': 'Артемьева', 'can_access_closed': True, 'is_closed': False}, {'id': 34427546, 'first_name': 'Лена', 'last_name': 'Сидорова', 'can_access_closed': True, 'is_closed': False}, {'id': 34436316, 'first_name': 'Светлана', 'last_name': 'Фомина', 'can_access_closed': True, 'is_closed': False}, {'id': 34452311, 'first_name': 'Светлана', 'last_name': 'Шефтор', 'can_access_closed': True, 'is_closed': False}, {'id': 34477923, 'first_name': 'Natali', 'last_name': 'Pav', 'can_access_closed': True, 'is_closed': False}, {'id': 34488843, 'first_name': 'Оксана', 'last_name': 'Белозёрова', 'can_access_closed': False, 'is_closed': True}, {'id': 34590498, 'first_name': 'Даша', 'last_name': 'Ткаченко', 'can_access_closed': False, 'is_closed': True}, {'id': 34591206, 'first_name': 'Евгения', 'last_name': 'Гереженко', 'can_access_closed': True, 'is_closed': False}, {'id': 34606209, 'first_name': 'Ольга', 'last_name': 'Газизова', 'can_access_closed': True, 'is_closed': False}, {'id': 34693253, 'first_name': 'Юлия', 'last_name': 'Завьялова', 'can_access_closed': True, 'is_closed': False}, {'id': 34769786, 'first_name': 'Алёна', 'last_name': 'Аленкина', 'can_access_closed': True, 'is_closed': False}, {'id': 34818549, 'first_name': 'Галина', 'last_name': 'Бурмистрова', 'can_access_closed': False, 'is_closed': True}, {'id': 34820067, 'first_name': 'Ирина', 'last_name': 'Гуляева', 'can_access_closed': True, 'is_closed': False}, {'id': 34839646, 'first_name': 'Надежда', 'last_name': 'Надежда', 'can_access_closed': True, 'is_closed': False}, {'id': 34938545, 'first_name': 'Валия', 'last_name': 'Форкуш', 'can_access_closed': True, 'is_closed': False}, {'id': 35012516, 'first_name': 'Марина', 'last_name': 'Суркова', 'can_access_closed': True, 'is_closed': False}, {'id': 35041570, 'first_name': 'Елена', 'last_name': 'Шараухова', 'can_access_closed': False, 'is_closed': True}, {'id': 35054743, 'first_name': 'Саша', 'last_name': 'Білоус', 'can_access_closed': True, 'is_closed': False}, {'id': 35078334, 'first_name': 'Лора', 'last_name': 'Комаровская', 'can_access_closed': True, 'is_closed': False}, {'id': 35236484, 'first_name': 'Екатерина', 'last_name': 'Пащенко', 'can_access_closed': True, 'is_closed': False}, {'id': 35239901, 'first_name': 'Надежда', 'last_name': 'Ахметшина', 'can_access_closed': True, 'is_closed': False}, {'id': 35291847, 'first_name': 'Татьяна', 'last_name': 'Панкратова', 'can_access_closed': False, 'is_closed': True}, {'id': 91081373, 'first_name': 'Татьяна', 'last_name': 'Прилуцкая', 'can_access_closed': True, 'is_closed': False}, {'id': 91138189, 'first_name': 'Наталья', 'last_name': 'Жилина', 'can_access_closed': True, 'is_closed': False}, {'id': 91233508, 'first_name': 'Елена', 'last_name': 'Вольх', 'can_access_closed': True, 'is_closed': False}, {'id': 91305379, 'first_name': 'Лиза', 'last_name': 'Литышева', 'can_access_closed': True, 'is_closed': False}, {'id': 91331179, 'first_name': 'Екатерина', 'last_name': 'Горлупина', 'can_access_closed': False, 'is_closed': True}, {'id': 91430887, 'first_name': 'Эмма', 'last_name': 'Рахманина', 'can_access_closed': True, 'is_closed': False}, {'id': 91500351, 'first_name': 'Оксана', 'last_name': 'Русанова', 'can_access_closed': True, 'is_closed': False}, {'id': 91544444, 'first_name': 'Диана', 'last_name': 'Химич', 'can_access_closed': True, 'is_closed': False}, {'id': 91584357, 'first_name': 'Катрин', 'last_name': '****', 'can_access_closed': False, 'is_closed': True}, {'id': 91634603, 'first_name': 'Аня', 'last_name': 'Ильина', 'can_access_closed': True, 'is_closed': False}, {'id': 91731871, 'first_name': 'Айгуль', 'last_name': 'Галимова', 'can_access_closed': True, 'is_closed': False}, {'id': 91796855, 'first_name': 'Zorica', 'last_name': 'Mikulić', 'can_access_closed': False, 'is_closed': True}, {'id': 91844417, 'first_name': 'Кристина', 'last_name': 'Москвитина', 'can_access_closed': False, 'is_closed': True}, {'id': 91860513, 'first_name': 'Анастасия', 'last_name': 'Шаманова', 'can_access_closed': True, 'is_closed': False}, {'id': 91910545, 'first_name': 'Инна', 'last_name': 'Маурина', 'can_access_closed': True, 'is_closed': False}, {'id': 91996168, 'first_name': 'Ольга', 'last_name': 'Елистратова', 'can_access_closed': False, 'is_closed': True}, {'id': 92010803, 'first_name': 'Алена', 'last_name': 'Мещерякова', 'can_access_closed': False, 'is_closed': True}, {'id': 92158861, 'first_name': 'Виктория', 'last_name': 'Ильясова', 'can_access_closed': False, 'is_closed': True}, {'id': 92223224, 'first_name': 'Светлана', 'last_name': 'Егорова', 'can_access_closed': True, 'is_closed': False}, {'id': 92306431, 'first_name': 'Елена', 'last_name': 'Петрова', 'can_access_closed': True, 'is_closed': False}, {'id': 92338004, 'first_name': 'Анна', 'last_name': 'Шашина', 'can_access_closed': True, 'is_closed': False}, {'id': 92345611, 'first_name': 'Гульнара', 'last_name': 'Ермолина', 'can_access_closed': True, 'is_closed': False}, {'id': 92424369, 'first_name': 'Светлана', 'last_name': 'Брандюкова', 'can_access_closed': True, 'is_closed': False}, {'id': 92429311, 'first_name': 'Лидия', 'last_name': 'Мишарина', 'can_access_closed': True, 'is_closed': False}, {'id': 92526108, 'first_name': 'Луиза', 'last_name': 'Хациева', 'can_access_closed': True, 'is_closed': False}, {'id': 92543707, 'first_name': 'Ольга', 'last_name': 'Сорокина', 'can_access_closed': True, 'is_closed': False}, {'id': 92583343, 'first_name': 'Светлана', 'last_name': 'Родина', 'can_access_closed': True, 'is_closed': False}, {'id': 92660187, 'first_name': 'Mila', 'last_name': 'Pokrasa', 'can_access_closed': True, 'is_closed': False}, {'id': 92737414, 'first_name': 'Наталья', 'last_name': 'Соляр', 'can_access_closed': True, 'is_closed': False}, {'id': 92747941, 'first_name': 'Лилия', 'last_name': 'Артамонова', 'can_access_closed': True, 'is_closed': False}, {'id': 92798111, 'first_name': 'Елена', 'last_name': 'Храмова', 'can_access_closed': True, 'is_closed': False}, {'id': 92879953, 'first_name': 'Екатерина', 'last_name': 'Васильева', 'can_access_closed': True, 'is_closed': False}, {'id': 92883735, 'first_name': 'Светлана', 'last_name': 'Киржакова', 'can_access_closed': True, 'is_closed': False}, {'id': 92901496, 'first_name': 'Иришка', 'last_name': 'Кочегарова', 'can_access_closed': True, 'is_closed': False}, {'id': 92954192, 'first_name': 'Наталия', 'last_name': 'Ульяновская', 'can_access_closed': True, 'is_closed': False}, {'id': 93069871, 'first_name': 'Кристина', 'last_name': 'Саввина', 'can_access_closed': True, 'is_closed': False}, {'id': 93072320, 'first_name': 'Светлана', 'last_name': 'Попова', 'can_access_closed': True, 'is_closed': False}, {'id': 93118539, 'first_name': 'Viktoriya', 'last_name': 'Gorbach', 'can_access_closed': True, 'is_closed': False}, {'id': 93145476, 'first_name': 'Лариса', 'last_name': 'Асафова', 'can_access_closed': False, 'is_closed': True}, {'id': 93181538, 'first_name': 'Елена', 'last_name': 'Московских', 'can_access_closed': True, 'is_closed': False}, {'id': 93507627, 'first_name': 'Татьяна', 'last_name': 'Тынкачёва', 'can_access_closed': True, 'is_closed': False}, {'id': 93535637, 'first_name': 'Екатерина', 'last_name': 'Форись', 'can_access_closed': False, 'is_closed': True}, {'id': 93543106, 'first_name': 'Алина', 'last_name': 'Пызик', 'can_access_closed': True, 'is_closed': False}, {'id': 93545544, 'first_name': 'Надежда', 'last_name': 'Галустян', 'can_access_closed': True, 'is_closed': False}, {'id': 93741198, 'first_name': 'Марина', 'last_name': 'Проскурякова', 'can_access_closed': False, 'is_closed': True}, {'id': 93950678, 'first_name': 'Ольга', 'last_name': 'Заварухина-Молева', 'can_access_closed': True, 'is_closed': False}, {'id': 93970696, 'first_name': 'Наталья', 'last_name': 'Мохамед', 'can_access_closed': False, 'is_closed': True}, {'id': 94047898, 'first_name': 'Елена', 'last_name': 'Серёдкина', 'can_access_closed': True, 'is_closed': False}, {'id': 94136561, 'first_name': 'Татьяна', 'last_name': 'Подуфалова', 'can_access_closed': True, 'is_closed': False}, {'id': 94211689, 'first_name': 'Ольга', 'last_name': 'Калетина', 'can_access_closed': True, 'is_closed': False}, {'id': 94215720, 'first_name': 'Катерина', 'last_name': 'Смирнова', 'can_access_closed': False, 'is_closed': True}, {'id': 94217923, 'first_name': 'Svetlana', 'last_name': 'Sergeevna', 'can_access_closed': False, 'is_closed': True}, {'id': 94464064, 'first_name': 'Наталья', 'last_name': 'Мазалова', 'can_access_closed': True, 'is_closed': False}, {'id': 94471142, 'first_name': 'Ольга', 'last_name': 'Григорян', 'can_access_closed': True, 'is_closed': False}, {'id': 94495543, 'first_name': 'Вита', 'last_name': 'Нетребенко', 'can_access_closed': True, 'is_closed': False}, {'id': 94700630, 'first_name': 'Роберт', 'last_name': 'Королев', 'can_access_closed': True, 'is_closed': False}, {'id': 94850800, 'first_name': 'Ильвира', 'last_name': 'Сафонова', 'can_access_closed': True, 'is_closed': False}, {'id': 94865715, 'first_name': 'Татьяна', 'last_name': 'Большакова', 'can_access_closed': False, 'is_closed': True}, {'id': 94906118, 'first_name': 'Helga', 'last_name': 'Helga', 'can_access_closed': False, 'is_closed': True}, {'id': 94960921, 'first_name': 'Аня', 'last_name': 'Родионова', 'can_access_closed': True, 'is_closed': False}, {'id': 95043456, 'first_name': 'Марина', 'last_name': 'Ларионова', 'can_access_closed': True, 'is_closed': False}, {'id': 95375194, 'first_name': 'Most', 'last_name': 'Wanted 73', 'can_access_closed': True, 'is_closed': False}, {'id': 95393114, 'first_name': 'Анна', 'last_name': 'Гуренкова', 'can_access_closed': True, 'is_closed': False}, {'id': 95484419, 'first_name': 'Наталия', 'last_name': 'Честных', 'can_access_closed': True, 'is_closed': False}, {'id': 95484906, 'first_name': 'Екатерина', 'last_name': 'Антипова', 'can_access_closed': True, 'is_closed': False}, {'id': 95527793, 'first_name': 'Хельга', 'last_name': 'Петрова', 'can_access_closed': True, 'is_closed': False}, {'id': 95558478, 'first_name': 'Елена', 'last_name': 'Дадашова', 'can_access_closed': True, 'is_closed': False}, {'id': 95563950, 'first_name': 'Жанна', 'last_name': 'Трунякова', 'can_access_closed': False, 'is_closed': True}, {'id': 95598897, 'first_name': 'Маргарита', 'last_name': 'Семцова', 'can_access_closed': False, 'is_closed': True}, {'id': 95607014, 'first_name': 'Елена', 'last_name': 'Толоконникова', 'can_access_closed': True, 'is_closed': False}, {'id': 95622391, 'first_name': 'Елена', 'last_name': 'Белоконь', 'can_access_closed': True, 'is_closed': False}, {'id': 95623881, 'first_name': 'Ирина', 'last_name': 'Кудашкина', 'can_access_closed': True, 'is_closed': False}, {'id': 95665541, 'first_name': 'Вероника', 'last_name': 'Лапутько', 'can_access_closed': False, 'is_closed': True}, {'id': 95767237, 'first_name': 'Анюта', 'last_name': 'Брехова', 'can_access_closed': False, 'is_closed': True}, {'id': 95876757, 'first_name': 'Алевтина', 'last_name': 'Мартьянова', 'can_access_closed': True, 'is_closed': False}, {'id': 95886566, 'first_name': 'Алексей', 'last_name': 'Стрижов', 'can_access_closed': True, 'is_closed': False}, {'id': 95916039, 'first_name': 'Екатерина', 'last_name': 'Широкова', 'can_access_closed': False, 'is_closed': True}, {'id': 95951420, 'first_name': 'Иннеска', 'last_name': 'Новикова', 'can_access_closed': False, 'is_closed': True}, {'id': 95958749, 'first_name': 'Александра', 'last_name': 'Гавар', 'can_access_closed': False, 'is_closed': True}, {'id': 96119606, 'first_name': 'Ольга', 'last_name': 'Платова', 'can_access_closed': True, 'is_closed': False}, {'id': 96152782, 'first_name': 'Наталья', 'last_name': 'Димина', 'can_access_closed': False, 'is_closed': True}, {'id': 96263316, 'first_name': 'Ксюша', 'last_name': 'Счастливая', 'can_access_closed': True, 'is_closed': False}, {'id': 96342160, 'first_name': 'Юлія', 'last_name': 'Дзудзило', 'can_access_closed': True, 'is_closed': False}, {'id': 96381576, 'first_name': 'Ольга', 'last_name': 'Тимофеева', 'can_access_closed': True, 'is_closed': False}, {'id': 96381712, 'first_name': 'Лариска', 'last_name': 'Клюква', 'can_access_closed': True, 'is_closed': False}, {'id': 96509615, 'first_name': 'Анастасия', 'last_name': 'Дмитриева', 'can_access_closed': False, 'is_closed': True}, {'id': 96780851, 'first_name': 'Александр', 'last_name': 'Наконечный', 'can_access_closed': True, 'is_closed': False}, {'id': 97100367, 'first_name': 'Анастасия', 'last_name': 'Терентьева', 'can_access_closed': True, 'is_closed': False}, {'id': 97427801, 'first_name': 'Ирина', 'last_name': 'Абрамова', 'can_access_closed': True, 'is_closed': False}, {'id': 97494655, 'first_name': 'Татьяна', 'last_name': 'Михалева', 'can_access_closed': True, 'is_closed': False}, {'id': 97737723, 'first_name': 'Оксана', 'last_name': 'Черевань', 'can_access_closed': True, 'is_closed': False}, {'id': 97843619, 'first_name': 'Нурия', 'last_name': 'Нигманова', 'can_access_closed': True, 'is_closed': False}, {'id': 98029001, 'first_name': 'Елена', 'last_name': 'Силантьева', 'can_access_closed': True, 'is_closed': False}, {'id': 98183946, 'first_name': 'Екатерина', 'last_name': 'Заикина', 'can_access_closed': True, 'is_closed': False}, {'id': 98272495, 'first_name': 'Светлана', 'last_name': 'Дзисюк', 'can_access_closed': True, 'is_closed': False}, {'id': 98435801, 'first_name': 'Диана', 'last_name': 'Филиппова', 'can_access_closed': False, 'is_closed': True}, {'id': 98625277, 'first_name': 'Елена', 'last_name': 'Устименко', 'can_access_closed': True, 'is_closed': False}, {'id': 98637329, 'first_name': 'Руана', 'last_name': 'Фдс', 'can_access_closed': True, 'is_closed': False}]\n"
          ]
        }
      ],
      "source": [
        "# Получаем подробную информацию о пользователях\n",
        "group_members = extract_members(vk_group_id)\n",
        "print(group_members)"
      ]
    },
    {
      "cell_type": "code",
      "execution_count": null,
      "id": "mk_x1I8uZ9R7",
      "metadata": {
        "colab": {
          "base_uri": "https://localhost:8080/"
        },
        "id": "mk_x1I8uZ9R7",
        "outputId": "8e1b38ce-dad1-47a2-e917-9083cf386457"
      },
      "outputs": [
        {
          "name": "stdout",
          "output_type": "stream",
          "text": [
            "8027\n"
          ]
        }
      ],
      "source": [
        "#Количество подписчиков в сообществе\n",
        "print(get_members_count(vk_group_id))"
      ]
    },
    {
      "cell_type": "code",
      "execution_count": null,
      "id": "e908f06d",
      "metadata": {
        "colab": {
          "base_uri": "https://localhost:8080/"
        },
        "id": "e908f06d",
        "outputId": "0a0f6a4d-3ef3-4e88-9d6c-ce75488bf896"
      },
      "outputs": [
        {
          "name": "stdout",
          "output_type": "stream",
          "text": [
            "295\n"
          ]
        }
      ],
      "source": [
        "#Полученные подписчики\n",
        "print(len(group_members))"
      ]
    },
    {
      "cell_type": "code",
      "execution_count": null,
      "id": "5622e0b0",
      "metadata": {
        "colab": {
          "base_uri": "https://localhost:8080/"
        },
        "id": "5622e0b0",
        "outputId": "2d760a5a-91d9-4614-ab79-4264a980eee0"
      },
      "outputs": [
        {
          "data": {
            "text/plain": [
              "{'id': 98637329,\n",
              " 'first_name': 'Руана',\n",
              " 'last_name': 'Фдс',\n",
              " 'can_access_closed': True,\n",
              " 'is_closed': False}"
            ]
          },
          "execution_count": 67,
          "metadata": {},
          "output_type": "execute_result"
        }
      ],
      "source": [
        "#Пример данных о подписчиках\n",
        "group_members[len(group_members)-1]"
      ]
    },
    {
      "cell_type": "code",
      "execution_count": null,
      "id": "7030d31a",
      "metadata": {
        "id": "7030d31a"
      },
      "outputs": [],
      "source": [
        "output = open('group_members_' + str(vk_group_id) + '.pkl', 'wb')\n",
        "pickle.dump(group_members, output)\n",
        "output.close()"
      ]
    },
    {
      "cell_type": "code",
      "execution_count": null,
      "id": "3610a92d",
      "metadata": {
        "id": "3610a92d"
      },
      "outputs": [],
      "source": [
        "with open('group_members_' + str(vk_group_id) + '.pkl', 'rb') as f:\n",
        "    group_members = pickle.load(f)"
      ]
    },
    {
      "cell_type": "code",
      "execution_count": null,
      "id": "9374f1cf",
      "metadata": {
        "id": "9374f1cf"
      },
      "outputs": [],
      "source": [
        "#Список id подписчиков сообщества\n",
        "members_ids = []\n",
        "for member in group_members:\n",
        "    members_ids.append(member['id'])"
      ]
    },
    {
      "cell_type": "code",
      "execution_count": null,
      "id": "f033e2f1",
      "metadata": {
        "id": "f033e2f1"
      },
      "outputs": [],
      "source": [
        "#Получение списка друзей, которые также подписаны на данное сообщество\n",
        "def user_friends_list(user_id):\n",
        "    \n",
        "    url = id_api_url + str(user_id) + access_token + v\n",
        "    \n",
        "    time.sleep(0.12)\n",
        "    \n",
        "    try:\n",
        "        json_response = requests.get(url).json()\n",
        "    except requests.exceptions.RequestException:\n",
        "        print('error')\n",
        "        return []\n",
        "    \n",
        "    if 'error' in json_response.keys():\n",
        "        print('error')\n",
        "        return []\n",
        "    \n",
        "    friends_inside_community_list = list(set(json_response['response']['items']).intersection(members_ids))\n",
        "    print('success')\n",
        "    return friends_inside_community_list"
      ]
    },
    {
      "cell_type": "code",
      "execution_count": null,
      "id": "19931762",
      "metadata": {
        "colab": {
          "base_uri": "https://localhost:8080/"
        },
        "id": "19931762",
        "outputId": "9e609876-7e3b-4be1-8919-d289c3f943d4"
      },
      "outputs": [
        {
          "name": "stdout",
          "output_type": "stream",
          "text": [
            "{'response': {'count': 251, 'items': [17885170, 24681239, 28933061, 44063304, 47507719, 56065716, 57728149, 62081527, 66221313, 68392475, 80496289, 87528713, 91707637, 92341144, 94655253, 98287610, 100855207, 106039618, 106326868, 120196424, 123840463, 127449269, 133831289, 135332203, 139137197, 141119795, 147404018, 149180766, 150503721, 152357494, 152459698, 153410245, 155159728, 156447193, 160437799, 163265521, 163994800, 164495195, 165114276, 165956440, 168001232, 168334930, 169544787, 170438356, 171392101, 171750244, 172516290, 175480408, 176152711, 176305524, 177947983, 181834713, 182397530, 186079332, 186661957, 187202061, 188855526, 188857494, 193607817, 195901751, 195902730, 199576767, 202359872, 202649224, 205024039, 206216437, 208999870, 209202622, 209475114, 213787267, 214606144, 215346577, 217050007, 219294559, 219988044, 224594718, 225185068, 226767051, 229573619, 230346278, 238613781, 239307956, 242355399, 243119152, 243911283, 246886476, 247055854, 252972069, 254285721, 254826277, 255336420, 256370925, 256832711, 256918962, 258796146, 258846409, 259042427, 260169940, 260930837, 261121038, 264007821, 265293760, 267287294, 267836852, 268990802, 270228957, 271689810, 272779364, 274054226, 275344856, 275873645, 276065207, 277427120, 281391363, 284201117, 286110282, 289111924, 292691385, 293153299, 294220831, 298303989, 299241951, 301857749, 304182263, 304810401, 306141533, 308125068, 313385903, 314757662, 315268784, 317589778, 318679947, 319308063, 321499789, 322014259, 325290041, 326048568, 326316073, 328170581, 329367538, 331981642, 332120457, 333222628, 334265238, 336150227, 337551636, 339146184, 341339607, 343094148, 345781450, 346731309, 346745461, 348386467, 348436298, 349364043, 350422021, 350902472, 351882388, 354400971, 354674095, 354795424, 357655269, 362206569, 364992056, 365114518, 365996011, 366301530, 367839335, 374527592, 375212743, 379018670, 379748495, 385099872, 395090968, 396614662, 397581580, 398833893, 403031281, 406574222, 414362767, 414680646, 422020623, 426860334, 429517203, 430730995, 431726327, 432854932, 433335836, 433847415, 445155599, 448686790, 448989311, 453970490, 454882284, 455584472, 456524590, 457085400, 462209195, 465006289, 466322789, 469911944, 470792899, 471201735, 471572635, 472842240, 480381182, 481389614, 481482639, 482574912, 485149421, 486790256, 493627683, 497797790, 498018421, 499453538, 512087934, 521172653, 522299964, 523036607, 527979953, 534859306, 537266054, 539090616, 540092144, 544108467, 547788405, 552815957, 553147668, 562438957, 562871266, 567439493, 568789369, 572033700, 578277763, 579049808, 583833022, 588677503, 595553046, 597074064, 603143163, 609114198, 612925432, 613728336, 619123522, 625378799, 627773302, 657863050, 661040226, 682537048, 697535076, 743615285]}}\n"
          ]
        }
      ],
      "source": [
        "url = id_api_url + str(154101110) + access_token + v\n",
        "print(requests.get(url).json())"
      ]
    },
    {
      "cell_type": "code",
      "execution_count": null,
      "id": "dfd0d095",
      "metadata": {
        "colab": {
          "base_uri": "https://localhost:8080/"
        },
        "id": "dfd0d095",
        "outputId": "93aec64a-0ba4-4e11-fbe3-248f83c77ab6",
        "scrolled": true
      },
      "outputs": [
        {
          "name": "stdout",
          "output_type": "stream",
          "text": [
            "success\n",
            "success\n",
            "success\n",
            "error\n",
            "success\n",
            "success\n",
            "success\n",
            "success\n",
            "success\n",
            "success\n",
            "success\n",
            "success\n",
            "success\n",
            "success\n",
            "success\n",
            "success\n",
            "success\n",
            "error\n",
            "success\n",
            "success\n",
            "error\n",
            "error\n",
            "success\n",
            "success\n",
            "success\n",
            "success\n",
            "error\n",
            "success\n",
            "success\n",
            "success\n",
            "success\n",
            "success\n",
            "success\n",
            "error\n",
            "success\n",
            "success\n",
            "error\n",
            "success\n",
            "success\n",
            "success\n",
            "error\n",
            "success\n",
            "success\n",
            "success\n",
            "success\n",
            "success\n",
            "success\n",
            "success\n",
            "error\n",
            "error\n",
            "success\n",
            "success\n",
            "success\n",
            "success\n",
            "error\n",
            "success\n",
            "error\n",
            "error\n",
            "error\n",
            "success\n",
            "success\n",
            "success\n",
            "error\n",
            "success\n",
            "success\n",
            "success\n",
            "success\n",
            "success\n",
            "success\n",
            "success\n",
            "success\n",
            "success\n",
            "success\n",
            "success\n",
            "success\n",
            "success\n",
            "success\n",
            "success\n",
            "success\n",
            "success\n",
            "success\n",
            "success\n",
            "error\n",
            "error\n",
            "error\n",
            "success\n",
            "success\n",
            "error\n",
            "success\n",
            "success\n",
            "success\n",
            "success\n",
            "error\n",
            "success\n",
            "success\n",
            "success\n",
            "error\n",
            "success\n",
            "success\n",
            "error\n",
            "success\n",
            "success\n",
            "error\n",
            "error\n",
            "success\n",
            "success\n",
            "success\n",
            "success\n",
            "success\n",
            "success\n",
            "error\n",
            "success\n",
            "success\n",
            "success\n",
            "error\n",
            "success\n",
            "error\n",
            "success\n",
            "success\n",
            "success\n",
            "success\n",
            "success\n",
            "success\n",
            "success\n",
            "success\n",
            "success\n",
            "success\n",
            "success\n",
            "success\n",
            "success\n",
            "success\n",
            "error\n",
            "success\n",
            "success\n",
            "error\n",
            "error\n",
            "success\n",
            "success\n",
            "success\n",
            "success\n",
            "success\n",
            "success\n",
            "success\n",
            "error\n",
            "error\n",
            "error\n",
            "success\n",
            "success\n",
            "success\n",
            "success\n",
            "success\n",
            "success\n",
            "error\n",
            "success\n",
            "success\n",
            "error\n",
            "success\n",
            "error\n",
            "error\n",
            "success\n",
            "success\n",
            "success\n",
            "success\n",
            "success\n",
            "error\n",
            "success\n",
            "success\n",
            "success\n",
            "success\n",
            "success\n",
            "error\n",
            "success\n",
            "success\n",
            "success\n",
            "success\n",
            "success\n",
            "success\n",
            "success\n",
            "success\n",
            "success\n",
            "error\n",
            "error\n",
            "success\n",
            "success\n",
            "success\n",
            "success\n",
            "error\n",
            "success\n",
            "success\n",
            "success\n",
            "success\n",
            "error\n",
            "success\n",
            "success\n",
            "success\n",
            "success\n",
            "error\n",
            "success\n",
            "success\n",
            "success\n",
            "success\n",
            "error\n",
            "success\n",
            "success\n",
            "success\n",
            "error\n",
            "success\n",
            "success\n",
            "error\n",
            "error\n",
            "success\n",
            "success\n",
            "error\n",
            "error\n",
            "error\n",
            "success\n",
            "success\n",
            "success\n",
            "success\n",
            "success\n",
            "success\n",
            "success\n",
            "success\n",
            "success\n",
            "success\n",
            "success\n",
            "success\n",
            "success\n",
            "success\n",
            "success\n",
            "success\n",
            "success\n",
            "success\n",
            "error\n",
            "error\n",
            "error\n",
            "error\n",
            "error\n",
            "error\n",
            "error\n",
            "error\n",
            "error\n",
            "error\n",
            "error\n",
            "error\n",
            "error\n",
            "error\n",
            "error\n",
            "error\n",
            "error\n",
            "error\n",
            "error\n",
            "error\n",
            "error\n",
            "error\n",
            "error\n",
            "error\n",
            "error\n",
            "error\n",
            "error\n",
            "error\n",
            "error\n",
            "error\n",
            "error\n",
            "error\n",
            "error\n",
            "error\n",
            "error\n",
            "error\n",
            "error\n",
            "error\n",
            "error\n",
            "error\n",
            "error\n",
            "error\n",
            "error\n",
            "error\n",
            "error\n",
            "error\n",
            "error\n",
            "error\n",
            "error\n",
            "error\n",
            "error\n",
            "error\n",
            "error\n",
            "error\n",
            "error\n",
            "error\n",
            "error\n",
            "error\n",
            "error\n",
            "error\n",
            "error\n",
            "error\n"
          ]
        }
      ],
      "source": [
        "# Создаем файл, в нем список ребер: пары вершина - вершина \n",
        "\n",
        "f1 = open('friends_inside_' + str(vk_group_id) + '.txt', 'w')\n",
        "\n",
        "for member_id in members_ids:\n",
        "    \n",
        "    a = user_friends_list(member_id)\n",
        "    \n",
        "    if len(a) != 0:\n",
        "        \n",
        "        for friend_id in a:\n",
        "            f1.write('%d' % member_id)\n",
        "            f1.write(' ')\n",
        "            f1.write('%d' % friend_id)\n",
        "            f1.write('\\n')\n",
        "\n",
        "f1.close()"
      ]
    },
    {
      "cell_type": "code",
      "execution_count": null,
      "id": "0b9477ea",
      "metadata": {
        "id": "0b9477ea"
      },
      "outputs": [],
      "source": [
        "# Открываем наш граф в networkx\n",
        "G1 = nx.read_edgelist('friends_inside_' + str(vk_group_id) + '.txt')"
      ]
    },
    {
      "cell_type": "code",
      "execution_count": null,
      "id": "a810108a",
      "metadata": {
        "colab": {
          "base_uri": "https://localhost:8080/"
        },
        "id": "a810108a",
        "outputId": "c0142d38-ebc6-4730-b1d1-94a673b0f623"
      },
      "outputs": [
        {
          "name": "stdout",
          "output_type": "stream",
          "text": [
            "Число вершин: 2959\n",
            "Число ребер: 24259\n"
          ]
        }
      ],
      "source": [
        "# Основные показатели графа\n",
        "print('Число вершин:', len(list(G1.nodes())))\n",
        "print('Число ребер:', len(list(G1.edges())))"
      ]
    },
    {
      "cell_type": "code",
      "execution_count": null,
      "id": "6f045c19",
      "metadata": {
        "id": "6f045c19"
      },
      "outputs": [],
      "source": [
        "k_cores_size = []\n",
        "for i in range(1, 25):\n",
        "    k_cores_size.append(len(nx.k_core(G1, i).nodes()))"
      ]
    },
    {
      "cell_type": "code",
      "execution_count": null,
      "id": "225716c6",
      "metadata": {
        "colab": {
          "base_uri": "https://localhost:8080/"
        },
        "id": "225716c6",
        "outputId": "f7724252-bd19-402f-cdfb-43f1488d112f"
      },
      "outputs": [
        {
          "name": "stdout",
          "output_type": "stream",
          "text": [
            "Количество вершин в 1-core: 2959\n",
            "Количество вершин в 2-core: 2046\n",
            "Количество вершин в 3-core: 1669\n",
            "Количество вершин в 4-core: 1452\n",
            "Количество вершин в 5-core: 1287\n",
            "Количество вершин в 6-core: 1170\n",
            "Количество вершин в 7-core: 1083\n",
            "Количество вершин в 8-core: 981\n",
            "Количество вершин в 9-core: 938\n",
            "Количество вершин в 10-core: 893\n",
            "Количество вершин в 11-core: 828\n",
            "Количество вершин в 12-core: 773\n",
            "Количество вершин в 13-core: 722\n",
            "Количество вершин в 14-core: 658\n",
            "Количество вершин в 15-core: 613\n",
            "Количество вершин в 16-core: 573\n",
            "Количество вершин в 17-core: 539\n",
            "Количество вершин в 18-core: 517\n",
            "Количество вершин в 19-core: 494\n",
            "Количество вершин в 20-core: 471\n",
            "Количество вершин в 21-core: 444\n",
            "Количество вершин в 22-core: 420\n",
            "Количество вершин в 23-core: 396\n",
            "Количество вершин в 24-core: 382\n"
          ]
        }
      ],
      "source": [
        "#количество подписчиков, у которых по одному, по два, по три.... друга\n",
        "for i, n in enumerate(k_cores_size):\n",
        "    print('Количество вершин в %s-core:' % (i+1), n)"
      ]
    }
  ],
  "metadata": {
    "colab": {
      "provenance": []
    },
    "kernelspec": {
      "display_name": "Python 3 (ipykernel)",
      "language": "python",
      "name": "python3"
    },
    "language_info": {
      "codemirror_mode": {
        "name": "ipython",
        "version": 3
      },
      "file_extension": ".py",
      "mimetype": "text/x-python",
      "name": "python",
      "nbconvert_exporter": "python",
      "pygments_lexer": "ipython3",
      "version": "3.9.7"
    }
  },
  "nbformat": 4,
  "nbformat_minor": 5
}
